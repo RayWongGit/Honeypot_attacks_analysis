{
 "cells": [
  {
   "cell_type": "markdown",
   "metadata": {},
   "source": [
    "# Honeypot attacks exploration"
   ]
  },
  {
   "cell_type": "markdown",
   "metadata": {},
   "source": [
    "## Loading data"
   ]
  },
  {
   "cell_type": "code",
   "execution_count": 1,
   "metadata": {},
   "outputs": [],
   "source": [
    "# import libraries\n",
    "import numpy as np\n",
    "import pandas as pd\n",
    "import glob\n",
    "import os\n",
    "import datetime\n",
    "import IP2Location\n",
    "import geoip2.database\n",
    "import matplotlib.pyplot as plt\n",
    "import seaborn as sns\n",
    "import matplotlib.dates as mdates\n",
    "from scipy.stats import chisquare\n",
    "%matplotlib inline"
   ]
  },
  {
   "cell_type": "code",
   "execution_count": 2,
   "metadata": {},
   "outputs": [],
   "source": [
    "# データを読み込む　\n",
    "# load data\n",
    "cols = ['date', 'time', 'access_ip', 'host_ip', 'request_line', 'status_code', 'match_result', 'request_all']\n",
    "df = pd.DataFrame()\n",
    "for filename in glob.glob('data/*.txt'):\n",
    "    df_new = pd.read_csv(filename, sep = ' ', header = None, names = cols, parse_dates = True)\n",
    "    df = pd.concat([df, df_new])"
   ]
  },
  {
   "cell_type": "markdown",
   "metadata": {},
   "source": [
    "## Assessing and cleaning data"
   ]
  },
  {
   "cell_type": "code",
   "execution_count": 3,
   "metadata": {
    "scrolled": true
   },
   "outputs": [
    {
     "data": {
      "text/html": [
       "<div>\n",
       "<style scoped>\n",
       "    .dataframe tbody tr th:only-of-type {\n",
       "        vertical-align: middle;\n",
       "    }\n",
       "\n",
       "    .dataframe tbody tr th {\n",
       "        vertical-align: top;\n",
       "    }\n",
       "\n",
       "    .dataframe thead th {\n",
       "        text-align: right;\n",
       "    }\n",
       "</style>\n",
       "<table border=\"1\" class=\"dataframe\">\n",
       "  <thead>\n",
       "    <tr style=\"text-align: right;\">\n",
       "      <th></th>\n",
       "      <th>date</th>\n",
       "      <th>time</th>\n",
       "      <th>access_ip</th>\n",
       "      <th>host_ip</th>\n",
       "      <th>request_line</th>\n",
       "      <th>status_code</th>\n",
       "      <th>match_result</th>\n",
       "      <th>request_all</th>\n",
       "    </tr>\n",
       "  </thead>\n",
       "  <tbody>\n",
       "    <tr>\n",
       "      <th>0</th>\n",
       "      <td>[2020-03-01</td>\n",
       "      <td>00:01:37+0900]</td>\n",
       "      <td>134.209.184.77</td>\n",
       "      <td>closedbeta.net:80</td>\n",
       "      <td>GET /blog/wp-login.php HTTP/1.1</td>\n",
       "      <td>200</td>\n",
       "      <td>1011</td>\n",
       "      <td>R0VUIC9ibG9nL3dwLWxvZ2luLnBocCBIVFRQLzEuMQpIb3...</td>\n",
       "    </tr>\n",
       "    <tr>\n",
       "      <th>1</th>\n",
       "      <td>[2020-03-01</td>\n",
       "      <td>00:01:38+0900]</td>\n",
       "      <td>134.209.184.77</td>\n",
       "      <td>closedbeta.net:80</td>\n",
       "      <td>POST /blog/closedbeta.net/blog/wp-login.php HT...</td>\n",
       "      <td>200</td>\n",
       "      <td>1011</td>\n",
       "      <td>UE9TVCAvYmxvZy9jbG9zZWRiZXRhLm5ldC9ibG9nL3dwLW...</td>\n",
       "    </tr>\n",
       "    <tr>\n",
       "      <th>2</th>\n",
       "      <td>[2020-03-01</td>\n",
       "      <td>00:11:53+0900]</td>\n",
       "      <td>193.106.30.99</td>\n",
       "      <td>closedbeta.net:80</td>\n",
       "      <td>GET / HTTP/1.1</td>\n",
       "      <td>200</td>\n",
       "      <td>False</td>\n",
       "      <td>R0VUIC8gSFRUUC8xLjEKSG9zdDogY2xvc2VkYmV0YS5uZX...</td>\n",
       "    </tr>\n",
       "    <tr>\n",
       "      <th>3</th>\n",
       "      <td>[2020-03-01</td>\n",
       "      <td>00:19:47+0900]</td>\n",
       "      <td>165.22.222.119</td>\n",
       "      <td>closedbeta.net:80</td>\n",
       "      <td>POST /code.conflicts.php HTTP/1.1</td>\n",
       "      <td>200</td>\n",
       "      <td>1037</td>\n",
       "      <td>UE9TVCAvY29kZS5jb25mbGljdHMucGhwIEhUVFAvMS4xCk...</td>\n",
       "    </tr>\n",
       "    <tr>\n",
       "      <th>4</th>\n",
       "      <td>[2020-03-01</td>\n",
       "      <td>00:19:55+0900]</td>\n",
       "      <td>189.240.124.61</td>\n",
       "      <td>closedbeta.net:80</td>\n",
       "      <td>POST /work.clases.php HTTP/1.1</td>\n",
       "      <td>200</td>\n",
       "      <td>1037</td>\n",
       "      <td>UE9TVCAvd29yay5jbGFzZXMucGhwIEhUVFAvMS4xCkFjY2...</td>\n",
       "    </tr>\n",
       "  </tbody>\n",
       "</table>\n",
       "</div>"
      ],
      "text/plain": [
       "          date            time       access_ip            host_ip  \\\n",
       "0  [2020-03-01  00:01:37+0900]  134.209.184.77  closedbeta.net:80   \n",
       "1  [2020-03-01  00:01:38+0900]  134.209.184.77  closedbeta.net:80   \n",
       "2  [2020-03-01  00:11:53+0900]   193.106.30.99  closedbeta.net:80   \n",
       "3  [2020-03-01  00:19:47+0900]  165.22.222.119  closedbeta.net:80   \n",
       "4  [2020-03-01  00:19:55+0900]  189.240.124.61  closedbeta.net:80   \n",
       "\n",
       "                                        request_line  status_code  \\\n",
       "0                    GET /blog/wp-login.php HTTP/1.1          200   \n",
       "1  POST /blog/closedbeta.net/blog/wp-login.php HT...          200   \n",
       "2                                     GET / HTTP/1.1          200   \n",
       "3                  POST /code.conflicts.php HTTP/1.1          200   \n",
       "4                     POST /work.clases.php HTTP/1.1          200   \n",
       "\n",
       "  match_result                                        request_all  \n",
       "0         1011  R0VUIC9ibG9nL3dwLWxvZ2luLnBocCBIVFRQLzEuMQpIb3...  \n",
       "1         1011  UE9TVCAvYmxvZy9jbG9zZWRiZXRhLm5ldC9ibG9nL3dwLW...  \n",
       "2        False  R0VUIC8gSFRUUC8xLjEKSG9zdDogY2xvc2VkYmV0YS5uZX...  \n",
       "3         1037  UE9TVCAvY29kZS5jb25mbGljdHMucGhwIEhUVFAvMS4xCk...  \n",
       "4         1037  UE9TVCAvd29yay5jbGFzZXMucGhwIEhUVFAvMS4xCkFjY2...  "
      ]
     },
     "execution_count": 3,
     "metadata": {},
     "output_type": "execute_result"
    }
   ],
   "source": [
    "# データのはじめの５行を表示する \n",
    "# show first 5 rows\n",
    "df.head()"
   ]
  },
  {
   "cell_type": "code",
   "execution_count": 4,
   "metadata": {},
   "outputs": [
    {
     "data": {
      "text/plain": [
       "(563883, 8)"
      ]
     },
     "execution_count": 4,
     "metadata": {},
     "output_type": "execute_result"
    }
   ],
   "source": [
    "# size of the dataset\n",
    "df.shape"
   ]
  },
  {
   "cell_type": "code",
   "execution_count": 5,
   "metadata": {
    "scrolled": true
   },
   "outputs": [
    {
     "name": "stdout",
     "output_type": "stream",
     "text": [
      "<class 'pandas.core.frame.DataFrame'>\n",
      "Int64Index: 563883 entries, 0 to 199532\n",
      "Data columns (total 8 columns):\n",
      " #   Column        Non-Null Count   Dtype \n",
      "---  ------        --------------   ----- \n",
      " 0   date          563883 non-null  object\n",
      " 1   time          563883 non-null  object\n",
      " 2   access_ip     563883 non-null  object\n",
      " 3   host_ip       563883 non-null  object\n",
      " 4   request_line  563883 non-null  object\n",
      " 5   status_code   563883 non-null  int64 \n",
      " 6   match_result  563883 non-null  object\n",
      " 7   request_all   563883 non-null  object\n",
      "dtypes: int64(1), object(7)\n",
      "memory usage: 38.7+ MB\n"
     ]
    }
   ],
   "source": [
    "# basic info\n",
    "df.info()"
   ]
  },
  {
   "cell_type": "markdown",
   "metadata": {},
   "source": [
    "No missing values. 欠損値がない"
   ]
  },
  {
   "cell_type": "code",
   "execution_count": 6,
   "metadata": {
    "scrolled": true
   },
   "outputs": [
    {
     "data": {
      "text/plain": [
       "499"
      ]
     },
     "execution_count": 6,
     "metadata": {},
     "output_type": "execute_result"
    }
   ],
   "source": [
    "# check duplicates　重複した値（あたい\n",
    "df.duplicated().sum()"
   ]
  },
  {
   "cell_type": "markdown",
   "metadata": {},
   "source": [
    "重複した値は４９９行あります"
   ]
  },
  {
   "cell_type": "code",
   "execution_count": 7,
   "metadata": {},
   "outputs": [
    {
     "data": {
      "text/html": [
       "<div>\n",
       "<style scoped>\n",
       "    .dataframe tbody tr th:only-of-type {\n",
       "        vertical-align: middle;\n",
       "    }\n",
       "\n",
       "    .dataframe tbody tr th {\n",
       "        vertical-align: top;\n",
       "    }\n",
       "\n",
       "    .dataframe thead th {\n",
       "        text-align: right;\n",
       "    }\n",
       "</style>\n",
       "<table border=\"1\" class=\"dataframe\">\n",
       "  <thead>\n",
       "    <tr style=\"text-align: right;\">\n",
       "      <th></th>\n",
       "      <th>date</th>\n",
       "      <th>time</th>\n",
       "      <th>access_ip</th>\n",
       "      <th>host_ip</th>\n",
       "      <th>request_line</th>\n",
       "      <th>status_code</th>\n",
       "      <th>match_result</th>\n",
       "      <th>request_all</th>\n",
       "    </tr>\n",
       "  </thead>\n",
       "  <tbody>\n",
       "    <tr>\n",
       "      <th>962</th>\n",
       "      <td>[2020-03-02</td>\n",
       "      <td>12:50:29+0900]</td>\n",
       "      <td>81.180.119.230</td>\n",
       "      <td>blank:80</td>\n",
       "      <td>GET / HTTP/1.1</td>\n",
       "      <td>200</td>\n",
       "      <td>False</td>\n",
       "      <td>R0VUIC8gSFRUUC8xLjEKCg==</td>\n",
       "    </tr>\n",
       "    <tr>\n",
       "      <th>1481</th>\n",
       "      <td>[2020-03-03</td>\n",
       "      <td>02:22:23+0900]</td>\n",
       "      <td>178.128.23.112</td>\n",
       "      <td>closedbeta.net:80</td>\n",
       "      <td>GET /wp-admin/profile.php HTTP/1.1</td>\n",
       "      <td>200</td>\n",
       "      <td>False</td>\n",
       "      <td>R0VUIC93cC1hZG1pbi9wcm9maWxlLnBocCBIVFRQLzEuMQ...</td>\n",
       "    </tr>\n",
       "    <tr>\n",
       "      <th>1597</th>\n",
       "      <td>[2020-03-03</td>\n",
       "      <td>04:41:51+0900]</td>\n",
       "      <td>100.11.48.113</td>\n",
       "      <td>blank:80</td>\n",
       "      <td>GET / HTTP/1.1</td>\n",
       "      <td>200</td>\n",
       "      <td>False</td>\n",
       "      <td>R0VUIC8gSFRUUC8xLjEKCg==</td>\n",
       "    </tr>\n",
       "    <tr>\n",
       "      <th>1599</th>\n",
       "      <td>[2020-03-03</td>\n",
       "      <td>04:41:52+0900]</td>\n",
       "      <td>100.11.48.113</td>\n",
       "      <td>blank:80</td>\n",
       "      <td>GET / HTTP/1.1</td>\n",
       "      <td>200</td>\n",
       "      <td>False</td>\n",
       "      <td>R0VUIC8gSFRUUC8xLjEKCg==</td>\n",
       "    </tr>\n",
       "    <tr>\n",
       "      <th>1886</th>\n",
       "      <td>[2020-03-03</td>\n",
       "      <td>17:26:31+0900]</td>\n",
       "      <td>142.93.87.106</td>\n",
       "      <td>closedbeta.net:80</td>\n",
       "      <td>GET / HTTP/1.0</td>\n",
       "      <td>200</td>\n",
       "      <td>False</td>\n",
       "      <td>R0VUIC8gSFRUUC8xLjAKSG9zdDogY2xvc2VkYmV0YS5uZX...</td>\n",
       "    </tr>\n",
       "    <tr>\n",
       "      <th>...</th>\n",
       "      <td>...</td>\n",
       "      <td>...</td>\n",
       "      <td>...</td>\n",
       "      <td>...</td>\n",
       "      <td>...</td>\n",
       "      <td>...</td>\n",
       "      <td>...</td>\n",
       "      <td>...</td>\n",
       "    </tr>\n",
       "    <tr>\n",
       "      <th>197143</th>\n",
       "      <td>[2020-06-29</td>\n",
       "      <td>01:44:35+0900]</td>\n",
       "      <td>62.210.180.62</td>\n",
       "      <td>mta-sts.closedbeta.net:80</td>\n",
       "      <td>GET / HTTP/1.1</td>\n",
       "      <td>200</td>\n",
       "      <td>False</td>\n",
       "      <td>R0VUIC8gSFRUUC8xLjEKSG9zdDogbXRhLXN0cy5jbG9zZW...</td>\n",
       "    </tr>\n",
       "    <tr>\n",
       "      <th>197256</th>\n",
       "      <td>[2020-06-29</td>\n",
       "      <td>03:03:34+0900]</td>\n",
       "      <td>62.210.172.100</td>\n",
       "      <td>backup.closedbeta.net:80</td>\n",
       "      <td>GET / HTTP/1.1</td>\n",
       "      <td>200</td>\n",
       "      <td>False</td>\n",
       "      <td>R0VUIC8gSFRUUC8xLjEKSG9zdDogYmFja3VwLmNsb3NlZG...</td>\n",
       "    </tr>\n",
       "    <tr>\n",
       "      <th>197718</th>\n",
       "      <td>[2020-06-29</td>\n",
       "      <td>07:13:32+0900]</td>\n",
       "      <td>111.231.200.218</td>\n",
       "      <td>120.51.157.176:80</td>\n",
       "      <td>GET / HTTP/1.1</td>\n",
       "      <td>200</td>\n",
       "      <td>False</td>\n",
       "      <td>R0VUIC8gSFRUUC8xLjEKQWNjZXB0OiAqLyoKQWNjZXB0LU...</td>\n",
       "    </tr>\n",
       "    <tr>\n",
       "      <th>198037</th>\n",
       "      <td>[2020-06-29</td>\n",
       "      <td>11:31:18+0900]</td>\n",
       "      <td>62.210.141.218</td>\n",
       "      <td>backup.closedbeta.net:80</td>\n",
       "      <td>GET / HTTP/1.1</td>\n",
       "      <td>200</td>\n",
       "      <td>False</td>\n",
       "      <td>R0VUIC8gSFRUUC8xLjEKSG9zdDogYmFja3VwLmNsb3NlZG...</td>\n",
       "    </tr>\n",
       "    <tr>\n",
       "      <th>198750</th>\n",
       "      <td>[2020-06-30</td>\n",
       "      <td>05:49:04+0900]</td>\n",
       "      <td>62.210.180.132</td>\n",
       "      <td>closedbeta.net:80</td>\n",
       "      <td>GET / HTTP/1.1</td>\n",
       "      <td>200</td>\n",
       "      <td>False</td>\n",
       "      <td>R0VUIC8gSFRUUC8xLjEKSG9zdDogY2xvc2VkYmV0YS5uZX...</td>\n",
       "    </tr>\n",
       "  </tbody>\n",
       "</table>\n",
       "<p>499 rows × 8 columns</p>\n",
       "</div>"
      ],
      "text/plain": [
       "               date            time        access_ip  \\\n",
       "962     [2020-03-02  12:50:29+0900]   81.180.119.230   \n",
       "1481    [2020-03-03  02:22:23+0900]   178.128.23.112   \n",
       "1597    [2020-03-03  04:41:51+0900]    100.11.48.113   \n",
       "1599    [2020-03-03  04:41:52+0900]    100.11.48.113   \n",
       "1886    [2020-03-03  17:26:31+0900]    142.93.87.106   \n",
       "...             ...             ...              ...   \n",
       "197143  [2020-06-29  01:44:35+0900]    62.210.180.62   \n",
       "197256  [2020-06-29  03:03:34+0900]   62.210.172.100   \n",
       "197718  [2020-06-29  07:13:32+0900]  111.231.200.218   \n",
       "198037  [2020-06-29  11:31:18+0900]   62.210.141.218   \n",
       "198750  [2020-06-30  05:49:04+0900]   62.210.180.132   \n",
       "\n",
       "                          host_ip                        request_line  \\\n",
       "962                      blank:80                      GET / HTTP/1.1   \n",
       "1481            closedbeta.net:80  GET /wp-admin/profile.php HTTP/1.1   \n",
       "1597                     blank:80                      GET / HTTP/1.1   \n",
       "1599                     blank:80                      GET / HTTP/1.1   \n",
       "1886            closedbeta.net:80                      GET / HTTP/1.0   \n",
       "...                           ...                                 ...   \n",
       "197143  mta-sts.closedbeta.net:80                      GET / HTTP/1.1   \n",
       "197256   backup.closedbeta.net:80                      GET / HTTP/1.1   \n",
       "197718          120.51.157.176:80                      GET / HTTP/1.1   \n",
       "198037   backup.closedbeta.net:80                      GET / HTTP/1.1   \n",
       "198750          closedbeta.net:80                      GET / HTTP/1.1   \n",
       "\n",
       "        status_code match_result  \\\n",
       "962             200        False   \n",
       "1481            200        False   \n",
       "1597            200        False   \n",
       "1599            200        False   \n",
       "1886            200        False   \n",
       "...             ...          ...   \n",
       "197143          200        False   \n",
       "197256          200        False   \n",
       "197718          200        False   \n",
       "198037          200        False   \n",
       "198750          200        False   \n",
       "\n",
       "                                              request_all  \n",
       "962                              R0VUIC8gSFRUUC8xLjEKCg==  \n",
       "1481    R0VUIC93cC1hZG1pbi9wcm9maWxlLnBocCBIVFRQLzEuMQ...  \n",
       "1597                             R0VUIC8gSFRUUC8xLjEKCg==  \n",
       "1599                             R0VUIC8gSFRUUC8xLjEKCg==  \n",
       "1886    R0VUIC8gSFRUUC8xLjAKSG9zdDogY2xvc2VkYmV0YS5uZX...  \n",
       "...                                                   ...  \n",
       "197143  R0VUIC8gSFRUUC8xLjEKSG9zdDogbXRhLXN0cy5jbG9zZW...  \n",
       "197256  R0VUIC8gSFRUUC8xLjEKSG9zdDogYmFja3VwLmNsb3NlZG...  \n",
       "197718  R0VUIC8gSFRUUC8xLjEKQWNjZXB0OiAqLyoKQWNjZXB0LU...  \n",
       "198037  R0VUIC8gSFRUUC8xLjEKSG9zdDogYmFja3VwLmNsb3NlZG...  \n",
       "198750  R0VUIC8gSFRUUC8xLjEKSG9zdDogY2xvc2VkYmV0YS5uZX...  \n",
       "\n",
       "[499 rows x 8 columns]"
      ]
     },
     "execution_count": 7,
     "metadata": {},
     "output_type": "execute_result"
    }
   ],
   "source": [
    "# duplicated records\n",
    "df[df.duplicated()]"
   ]
  },
  {
   "cell_type": "code",
   "execution_count": 8,
   "metadata": {
    "scrolled": true
   },
   "outputs": [
    {
     "data": {
      "text/html": [
       "<div>\n",
       "<style scoped>\n",
       "    .dataframe tbody tr th:only-of-type {\n",
       "        vertical-align: middle;\n",
       "    }\n",
       "\n",
       "    .dataframe tbody tr th {\n",
       "        vertical-align: top;\n",
       "    }\n",
       "\n",
       "    .dataframe thead th {\n",
       "        text-align: right;\n",
       "    }\n",
       "</style>\n",
       "<table border=\"1\" class=\"dataframe\">\n",
       "  <thead>\n",
       "    <tr style=\"text-align: right;\">\n",
       "      <th></th>\n",
       "      <th>date</th>\n",
       "      <th>time</th>\n",
       "      <th>access_ip</th>\n",
       "      <th>host_ip</th>\n",
       "      <th>request_line</th>\n",
       "      <th>status_code</th>\n",
       "      <th>match_result</th>\n",
       "      <th>request_all</th>\n",
       "    </tr>\n",
       "  </thead>\n",
       "  <tbody>\n",
       "  </tbody>\n",
       "</table>\n",
       "</div>"
      ],
      "text/plain": [
       "Empty DataFrame\n",
       "Columns: [date, time, access_ip, host_ip, request_line, status_code, match_result, request_all]\n",
       "Index: []"
      ]
     },
     "execution_count": 8,
     "metadata": {},
     "output_type": "execute_result"
    }
   ],
   "source": [
    "# take a look at one of the duplicated records\n",
    "df[(df.time == '12:50:29+0900') & (df.access_ip == '81.180.119.230')]"
   ]
  },
  {
   "cell_type": "code",
   "execution_count": 9,
   "metadata": {},
   "outputs": [],
   "source": [
    "# drop duplicates\n",
    "df.drop_duplicates(inplace=True)"
   ]
  },
  {
   "cell_type": "code",
   "execution_count": 10,
   "metadata": {},
   "outputs": [
    {
     "data": {
      "text/plain": [
       "0"
      ]
     },
     "execution_count": 10,
     "metadata": {},
     "output_type": "execute_result"
    }
   ],
   "source": [
    "# double check duplicates\n",
    "df.duplicated().sum()"
   ]
  },
  {
   "cell_type": "code",
   "execution_count": 11,
   "metadata": {},
   "outputs": [
    {
     "data": {
      "text/html": [
       "<div>\n",
       "<style scoped>\n",
       "    .dataframe tbody tr th:only-of-type {\n",
       "        vertical-align: middle;\n",
       "    }\n",
       "\n",
       "    .dataframe tbody tr th {\n",
       "        vertical-align: top;\n",
       "    }\n",
       "\n",
       "    .dataframe thead th {\n",
       "        text-align: right;\n",
       "    }\n",
       "</style>\n",
       "<table border=\"1\" class=\"dataframe\">\n",
       "  <thead>\n",
       "    <tr style=\"text-align: right;\">\n",
       "      <th></th>\n",
       "      <th>date</th>\n",
       "      <th>time</th>\n",
       "      <th>access_ip</th>\n",
       "      <th>host_ip</th>\n",
       "      <th>request_line</th>\n",
       "      <th>status_code</th>\n",
       "      <th>match_result</th>\n",
       "      <th>request_all</th>\n",
       "    </tr>\n",
       "  </thead>\n",
       "  <tbody>\n",
       "    <tr>\n",
       "      <th>0</th>\n",
       "      <td>2020-03-01</td>\n",
       "      <td>00:01:37+0900]</td>\n",
       "      <td>134.209.184.77</td>\n",
       "      <td>closedbeta.net:80</td>\n",
       "      <td>GET /blog/wp-login.php HTTP/1.1</td>\n",
       "      <td>200</td>\n",
       "      <td>1011</td>\n",
       "      <td>R0VUIC9ibG9nL3dwLWxvZ2luLnBocCBIVFRQLzEuMQpIb3...</td>\n",
       "    </tr>\n",
       "    <tr>\n",
       "      <th>1</th>\n",
       "      <td>2020-03-01</td>\n",
       "      <td>00:01:38+0900]</td>\n",
       "      <td>134.209.184.77</td>\n",
       "      <td>closedbeta.net:80</td>\n",
       "      <td>POST /blog/closedbeta.net/blog/wp-login.php HT...</td>\n",
       "      <td>200</td>\n",
       "      <td>1011</td>\n",
       "      <td>UE9TVCAvYmxvZy9jbG9zZWRiZXRhLm5ldC9ibG9nL3dwLW...</td>\n",
       "    </tr>\n",
       "    <tr>\n",
       "      <th>2</th>\n",
       "      <td>2020-03-01</td>\n",
       "      <td>00:11:53+0900]</td>\n",
       "      <td>193.106.30.99</td>\n",
       "      <td>closedbeta.net:80</td>\n",
       "      <td>GET / HTTP/1.1</td>\n",
       "      <td>200</td>\n",
       "      <td>False</td>\n",
       "      <td>R0VUIC8gSFRUUC8xLjEKSG9zdDogY2xvc2VkYmV0YS5uZX...</td>\n",
       "    </tr>\n",
       "    <tr>\n",
       "      <th>3</th>\n",
       "      <td>2020-03-01</td>\n",
       "      <td>00:19:47+0900]</td>\n",
       "      <td>165.22.222.119</td>\n",
       "      <td>closedbeta.net:80</td>\n",
       "      <td>POST /code.conflicts.php HTTP/1.1</td>\n",
       "      <td>200</td>\n",
       "      <td>1037</td>\n",
       "      <td>UE9TVCAvY29kZS5jb25mbGljdHMucGhwIEhUVFAvMS4xCk...</td>\n",
       "    </tr>\n",
       "    <tr>\n",
       "      <th>4</th>\n",
       "      <td>2020-03-01</td>\n",
       "      <td>00:19:55+0900]</td>\n",
       "      <td>189.240.124.61</td>\n",
       "      <td>closedbeta.net:80</td>\n",
       "      <td>POST /work.clases.php HTTP/1.1</td>\n",
       "      <td>200</td>\n",
       "      <td>1037</td>\n",
       "      <td>UE9TVCAvd29yay5jbGFzZXMucGhwIEhUVFAvMS4xCkFjY2...</td>\n",
       "    </tr>\n",
       "  </tbody>\n",
       "</table>\n",
       "</div>"
      ],
      "text/plain": [
       "         date            time       access_ip            host_ip  \\\n",
       "0  2020-03-01  00:01:37+0900]  134.209.184.77  closedbeta.net:80   \n",
       "1  2020-03-01  00:01:38+0900]  134.209.184.77  closedbeta.net:80   \n",
       "2  2020-03-01  00:11:53+0900]   193.106.30.99  closedbeta.net:80   \n",
       "3  2020-03-01  00:19:47+0900]  165.22.222.119  closedbeta.net:80   \n",
       "4  2020-03-01  00:19:55+0900]  189.240.124.61  closedbeta.net:80   \n",
       "\n",
       "                                        request_line  status_code  \\\n",
       "0                    GET /blog/wp-login.php HTTP/1.1          200   \n",
       "1  POST /blog/closedbeta.net/blog/wp-login.php HT...          200   \n",
       "2                                     GET / HTTP/1.1          200   \n",
       "3                  POST /code.conflicts.php HTTP/1.1          200   \n",
       "4                     POST /work.clases.php HTTP/1.1          200   \n",
       "\n",
       "  match_result                                        request_all  \n",
       "0         1011  R0VUIC9ibG9nL3dwLWxvZ2luLnBocCBIVFRQLzEuMQpIb3...  \n",
       "1         1011  UE9TVCAvYmxvZy9jbG9zZWRiZXRhLm5ldC9ibG9nL3dwLW...  \n",
       "2        False  R0VUIC8gSFRUUC8xLjEKSG9zdDogY2xvc2VkYmV0YS5uZX...  \n",
       "3         1037  UE9TVCAvY29kZS5jb25mbGljdHMucGhwIEhUVFAvMS4xCk...  \n",
       "4         1037  UE9TVCAvd29yay5jbGFzZXMucGhwIEhUVFAvMS4xCkFjY2...  "
      ]
     },
     "execution_count": 11,
     "metadata": {},
     "output_type": "execute_result"
    }
   ],
   "source": [
    "# clean the date column\n",
    "df['date'] = df.date.str.lstrip('[')\n",
    "df.head()"
   ]
  },
  {
   "cell_type": "code",
   "execution_count": 12,
   "metadata": {
    "scrolled": true
   },
   "outputs": [
    {
     "data": {
      "text/html": [
       "<div>\n",
       "<style scoped>\n",
       "    .dataframe tbody tr th:only-of-type {\n",
       "        vertical-align: middle;\n",
       "    }\n",
       "\n",
       "    .dataframe tbody tr th {\n",
       "        vertical-align: top;\n",
       "    }\n",
       "\n",
       "    .dataframe thead th {\n",
       "        text-align: right;\n",
       "    }\n",
       "</style>\n",
       "<table border=\"1\" class=\"dataframe\">\n",
       "  <thead>\n",
       "    <tr style=\"text-align: right;\">\n",
       "      <th></th>\n",
       "      <th>date</th>\n",
       "      <th>time</th>\n",
       "      <th>access_ip</th>\n",
       "      <th>host_ip</th>\n",
       "      <th>request_line</th>\n",
       "      <th>status_code</th>\n",
       "      <th>match_result</th>\n",
       "      <th>request_all</th>\n",
       "    </tr>\n",
       "  </thead>\n",
       "  <tbody>\n",
       "    <tr>\n",
       "      <th>0</th>\n",
       "      <td>2020-03-01</td>\n",
       "      <td>00:01:37+0900</td>\n",
       "      <td>134.209.184.77</td>\n",
       "      <td>closedbeta.net:80</td>\n",
       "      <td>GET /blog/wp-login.php HTTP/1.1</td>\n",
       "      <td>200</td>\n",
       "      <td>1011</td>\n",
       "      <td>R0VUIC9ibG9nL3dwLWxvZ2luLnBocCBIVFRQLzEuMQpIb3...</td>\n",
       "    </tr>\n",
       "    <tr>\n",
       "      <th>1</th>\n",
       "      <td>2020-03-01</td>\n",
       "      <td>00:01:38+0900</td>\n",
       "      <td>134.209.184.77</td>\n",
       "      <td>closedbeta.net:80</td>\n",
       "      <td>POST /blog/closedbeta.net/blog/wp-login.php HT...</td>\n",
       "      <td>200</td>\n",
       "      <td>1011</td>\n",
       "      <td>UE9TVCAvYmxvZy9jbG9zZWRiZXRhLm5ldC9ibG9nL3dwLW...</td>\n",
       "    </tr>\n",
       "    <tr>\n",
       "      <th>2</th>\n",
       "      <td>2020-03-01</td>\n",
       "      <td>00:11:53+0900</td>\n",
       "      <td>193.106.30.99</td>\n",
       "      <td>closedbeta.net:80</td>\n",
       "      <td>GET / HTTP/1.1</td>\n",
       "      <td>200</td>\n",
       "      <td>False</td>\n",
       "      <td>R0VUIC8gSFRUUC8xLjEKSG9zdDogY2xvc2VkYmV0YS5uZX...</td>\n",
       "    </tr>\n",
       "    <tr>\n",
       "      <th>3</th>\n",
       "      <td>2020-03-01</td>\n",
       "      <td>00:19:47+0900</td>\n",
       "      <td>165.22.222.119</td>\n",
       "      <td>closedbeta.net:80</td>\n",
       "      <td>POST /code.conflicts.php HTTP/1.1</td>\n",
       "      <td>200</td>\n",
       "      <td>1037</td>\n",
       "      <td>UE9TVCAvY29kZS5jb25mbGljdHMucGhwIEhUVFAvMS4xCk...</td>\n",
       "    </tr>\n",
       "    <tr>\n",
       "      <th>4</th>\n",
       "      <td>2020-03-01</td>\n",
       "      <td>00:19:55+0900</td>\n",
       "      <td>189.240.124.61</td>\n",
       "      <td>closedbeta.net:80</td>\n",
       "      <td>POST /work.clases.php HTTP/1.1</td>\n",
       "      <td>200</td>\n",
       "      <td>1037</td>\n",
       "      <td>UE9TVCAvd29yay5jbGFzZXMucGhwIEhUVFAvMS4xCkFjY2...</td>\n",
       "    </tr>\n",
       "  </tbody>\n",
       "</table>\n",
       "</div>"
      ],
      "text/plain": [
       "         date           time       access_ip            host_ip  \\\n",
       "0  2020-03-01  00:01:37+0900  134.209.184.77  closedbeta.net:80   \n",
       "1  2020-03-01  00:01:38+0900  134.209.184.77  closedbeta.net:80   \n",
       "2  2020-03-01  00:11:53+0900   193.106.30.99  closedbeta.net:80   \n",
       "3  2020-03-01  00:19:47+0900  165.22.222.119  closedbeta.net:80   \n",
       "4  2020-03-01  00:19:55+0900  189.240.124.61  closedbeta.net:80   \n",
       "\n",
       "                                        request_line  status_code  \\\n",
       "0                    GET /blog/wp-login.php HTTP/1.1          200   \n",
       "1  POST /blog/closedbeta.net/blog/wp-login.php HT...          200   \n",
       "2                                     GET / HTTP/1.1          200   \n",
       "3                  POST /code.conflicts.php HTTP/1.1          200   \n",
       "4                     POST /work.clases.php HTTP/1.1          200   \n",
       "\n",
       "  match_result                                        request_all  \n",
       "0         1011  R0VUIC9ibG9nL3dwLWxvZ2luLnBocCBIVFRQLzEuMQpIb3...  \n",
       "1         1011  UE9TVCAvYmxvZy9jbG9zZWRiZXRhLm5ldC9ibG9nL3dwLW...  \n",
       "2        False  R0VUIC8gSFRUUC8xLjEKSG9zdDogY2xvc2VkYmV0YS5uZX...  \n",
       "3         1037  UE9TVCAvY29kZS5jb25mbGljdHMucGhwIEhUVFAvMS4xCk...  \n",
       "4         1037  UE9TVCAvd29yay5jbGFzZXMucGhwIEhUVFAvMS4xCkFjY2...  "
      ]
     },
     "execution_count": 12,
     "metadata": {},
     "output_type": "execute_result"
    }
   ],
   "source": [
    "# clean the time column\n",
    "df['time'] = df.time.str.rstrip(']')\n",
    "df.head()"
   ]
  },
  {
   "cell_type": "markdown",
   "metadata": {},
   "source": [
    "## Feture engineering"
   ]
  },
  {
   "cell_type": "markdown",
   "metadata": {},
   "source": [
    "### month, day, hour_JP"
   ]
  },
  {
   "cell_type": "code",
   "execution_count": 13,
   "metadata": {},
   "outputs": [
    {
     "data": {
      "text/html": [
       "<div>\n",
       "<style scoped>\n",
       "    .dataframe tbody tr th:only-of-type {\n",
       "        vertical-align: middle;\n",
       "    }\n",
       "\n",
       "    .dataframe tbody tr th {\n",
       "        vertical-align: top;\n",
       "    }\n",
       "\n",
       "    .dataframe thead th {\n",
       "        text-align: right;\n",
       "    }\n",
       "</style>\n",
       "<table border=\"1\" class=\"dataframe\">\n",
       "  <thead>\n",
       "    <tr style=\"text-align: right;\">\n",
       "      <th></th>\n",
       "      <th>date</th>\n",
       "      <th>time</th>\n",
       "      <th>access_ip</th>\n",
       "      <th>host_ip</th>\n",
       "      <th>request_line</th>\n",
       "      <th>status_code</th>\n",
       "      <th>match_result</th>\n",
       "      <th>request_all</th>\n",
       "      <th>month</th>\n",
       "      <th>day</th>\n",
       "    </tr>\n",
       "  </thead>\n",
       "  <tbody>\n",
       "    <tr>\n",
       "      <th>0</th>\n",
       "      <td>2020-03-01</td>\n",
       "      <td>00:01:37+0900</td>\n",
       "      <td>134.209.184.77</td>\n",
       "      <td>closedbeta.net:80</td>\n",
       "      <td>GET /blog/wp-login.php HTTP/1.1</td>\n",
       "      <td>200</td>\n",
       "      <td>1011</td>\n",
       "      <td>R0VUIC9ibG9nL3dwLWxvZ2luLnBocCBIVFRQLzEuMQpIb3...</td>\n",
       "      <td>March</td>\n",
       "      <td>1</td>\n",
       "    </tr>\n",
       "    <tr>\n",
       "      <th>1</th>\n",
       "      <td>2020-03-01</td>\n",
       "      <td>00:01:38+0900</td>\n",
       "      <td>134.209.184.77</td>\n",
       "      <td>closedbeta.net:80</td>\n",
       "      <td>POST /blog/closedbeta.net/blog/wp-login.php HT...</td>\n",
       "      <td>200</td>\n",
       "      <td>1011</td>\n",
       "      <td>UE9TVCAvYmxvZy9jbG9zZWRiZXRhLm5ldC9ibG9nL3dwLW...</td>\n",
       "      <td>March</td>\n",
       "      <td>1</td>\n",
       "    </tr>\n",
       "    <tr>\n",
       "      <th>2</th>\n",
       "      <td>2020-03-01</td>\n",
       "      <td>00:11:53+0900</td>\n",
       "      <td>193.106.30.99</td>\n",
       "      <td>closedbeta.net:80</td>\n",
       "      <td>GET / HTTP/1.1</td>\n",
       "      <td>200</td>\n",
       "      <td>False</td>\n",
       "      <td>R0VUIC8gSFRUUC8xLjEKSG9zdDogY2xvc2VkYmV0YS5uZX...</td>\n",
       "      <td>March</td>\n",
       "      <td>1</td>\n",
       "    </tr>\n",
       "    <tr>\n",
       "      <th>3</th>\n",
       "      <td>2020-03-01</td>\n",
       "      <td>00:19:47+0900</td>\n",
       "      <td>165.22.222.119</td>\n",
       "      <td>closedbeta.net:80</td>\n",
       "      <td>POST /code.conflicts.php HTTP/1.1</td>\n",
       "      <td>200</td>\n",
       "      <td>1037</td>\n",
       "      <td>UE9TVCAvY29kZS5jb25mbGljdHMucGhwIEhUVFAvMS4xCk...</td>\n",
       "      <td>March</td>\n",
       "      <td>1</td>\n",
       "    </tr>\n",
       "    <tr>\n",
       "      <th>4</th>\n",
       "      <td>2020-03-01</td>\n",
       "      <td>00:19:55+0900</td>\n",
       "      <td>189.240.124.61</td>\n",
       "      <td>closedbeta.net:80</td>\n",
       "      <td>POST /work.clases.php HTTP/1.1</td>\n",
       "      <td>200</td>\n",
       "      <td>1037</td>\n",
       "      <td>UE9TVCAvd29yay5jbGFzZXMucGhwIEhUVFAvMS4xCkFjY2...</td>\n",
       "      <td>March</td>\n",
       "      <td>1</td>\n",
       "    </tr>\n",
       "  </tbody>\n",
       "</table>\n",
       "</div>"
      ],
      "text/plain": [
       "         date           time       access_ip            host_ip  \\\n",
       "0  2020-03-01  00:01:37+0900  134.209.184.77  closedbeta.net:80   \n",
       "1  2020-03-01  00:01:38+0900  134.209.184.77  closedbeta.net:80   \n",
       "2  2020-03-01  00:11:53+0900   193.106.30.99  closedbeta.net:80   \n",
       "3  2020-03-01  00:19:47+0900  165.22.222.119  closedbeta.net:80   \n",
       "4  2020-03-01  00:19:55+0900  189.240.124.61  closedbeta.net:80   \n",
       "\n",
       "                                        request_line  status_code  \\\n",
       "0                    GET /blog/wp-login.php HTTP/1.1          200   \n",
       "1  POST /blog/closedbeta.net/blog/wp-login.php HT...          200   \n",
       "2                                     GET / HTTP/1.1          200   \n",
       "3                  POST /code.conflicts.php HTTP/1.1          200   \n",
       "4                     POST /work.clases.php HTTP/1.1          200   \n",
       "\n",
       "  match_result                                        request_all  month  day  \n",
       "0         1011  R0VUIC9ibG9nL3dwLWxvZ2luLnBocCBIVFRQLzEuMQpIb3...  March    1  \n",
       "1         1011  UE9TVCAvYmxvZy9jbG9zZWRiZXRhLm5ldC9ibG9nL3dwLW...  March    1  \n",
       "2        False  R0VUIC8gSFRUUC8xLjEKSG9zdDogY2xvc2VkYmV0YS5uZX...  March    1  \n",
       "3         1037  UE9TVCAvY29kZS5jb25mbGljdHMucGhwIEhUVFAvMS4xCk...  March    1  \n",
       "4         1037  UE9TVCAvd29yay5jbGFzZXMucGhwIEhUVFAvMS4xCkFjY2...  March    1  "
      ]
     },
     "execution_count": 13,
     "metadata": {},
     "output_type": "execute_result"
    }
   ],
   "source": [
    "# extract month, day from date\n",
    "df['month'] = df['date'].apply(lambda x: x[5:7]).astype(int)\n",
    "month_dict = {1: 'Janurary', 2: 'February', 3: 'March', 4: 'April', 5: 'May', 6: 'June', 7: 'July', 8: 'August'}\n",
    "df['month'] = df.month.map(month_dict)\n",
    "df['day'] = df['date'].apply(lambda x: x[8:10]).astype(int)\n",
    "df.head()"
   ]
  },
  {
   "cell_type": "code",
   "execution_count": 14,
   "metadata": {
    "scrolled": false
   },
   "outputs": [
    {
     "data": {
      "text/html": [
       "<div>\n",
       "<style scoped>\n",
       "    .dataframe tbody tr th:only-of-type {\n",
       "        vertical-align: middle;\n",
       "    }\n",
       "\n",
       "    .dataframe tbody tr th {\n",
       "        vertical-align: top;\n",
       "    }\n",
       "\n",
       "    .dataframe thead th {\n",
       "        text-align: right;\n",
       "    }\n",
       "</style>\n",
       "<table border=\"1\" class=\"dataframe\">\n",
       "  <thead>\n",
       "    <tr style=\"text-align: right;\">\n",
       "      <th></th>\n",
       "      <th>date</th>\n",
       "      <th>time</th>\n",
       "      <th>access_ip</th>\n",
       "      <th>host_ip</th>\n",
       "      <th>request_line</th>\n",
       "      <th>status_code</th>\n",
       "      <th>match_result</th>\n",
       "      <th>request_all</th>\n",
       "      <th>month</th>\n",
       "      <th>day</th>\n",
       "      <th>hour_JP</th>\n",
       "    </tr>\n",
       "  </thead>\n",
       "  <tbody>\n",
       "    <tr>\n",
       "      <th>0</th>\n",
       "      <td>2020-03-01</td>\n",
       "      <td>00:01:37+0900</td>\n",
       "      <td>134.209.184.77</td>\n",
       "      <td>closedbeta.net:80</td>\n",
       "      <td>GET /blog/wp-login.php HTTP/1.1</td>\n",
       "      <td>200</td>\n",
       "      <td>1011</td>\n",
       "      <td>R0VUIC9ibG9nL3dwLWxvZ2luLnBocCBIVFRQLzEuMQpIb3...</td>\n",
       "      <td>March</td>\n",
       "      <td>1</td>\n",
       "      <td>0</td>\n",
       "    </tr>\n",
       "    <tr>\n",
       "      <th>1</th>\n",
       "      <td>2020-03-01</td>\n",
       "      <td>00:01:38+0900</td>\n",
       "      <td>134.209.184.77</td>\n",
       "      <td>closedbeta.net:80</td>\n",
       "      <td>POST /blog/closedbeta.net/blog/wp-login.php HT...</td>\n",
       "      <td>200</td>\n",
       "      <td>1011</td>\n",
       "      <td>UE9TVCAvYmxvZy9jbG9zZWRiZXRhLm5ldC9ibG9nL3dwLW...</td>\n",
       "      <td>March</td>\n",
       "      <td>1</td>\n",
       "      <td>0</td>\n",
       "    </tr>\n",
       "    <tr>\n",
       "      <th>2</th>\n",
       "      <td>2020-03-01</td>\n",
       "      <td>00:11:53+0900</td>\n",
       "      <td>193.106.30.99</td>\n",
       "      <td>closedbeta.net:80</td>\n",
       "      <td>GET / HTTP/1.1</td>\n",
       "      <td>200</td>\n",
       "      <td>False</td>\n",
       "      <td>R0VUIC8gSFRUUC8xLjEKSG9zdDogY2xvc2VkYmV0YS5uZX...</td>\n",
       "      <td>March</td>\n",
       "      <td>1</td>\n",
       "      <td>0</td>\n",
       "    </tr>\n",
       "    <tr>\n",
       "      <th>3</th>\n",
       "      <td>2020-03-01</td>\n",
       "      <td>00:19:47+0900</td>\n",
       "      <td>165.22.222.119</td>\n",
       "      <td>closedbeta.net:80</td>\n",
       "      <td>POST /code.conflicts.php HTTP/1.1</td>\n",
       "      <td>200</td>\n",
       "      <td>1037</td>\n",
       "      <td>UE9TVCAvY29kZS5jb25mbGljdHMucGhwIEhUVFAvMS4xCk...</td>\n",
       "      <td>March</td>\n",
       "      <td>1</td>\n",
       "      <td>0</td>\n",
       "    </tr>\n",
       "    <tr>\n",
       "      <th>4</th>\n",
       "      <td>2020-03-01</td>\n",
       "      <td>00:19:55+0900</td>\n",
       "      <td>189.240.124.61</td>\n",
       "      <td>closedbeta.net:80</td>\n",
       "      <td>POST /work.clases.php HTTP/1.1</td>\n",
       "      <td>200</td>\n",
       "      <td>1037</td>\n",
       "      <td>UE9TVCAvd29yay5jbGFzZXMucGhwIEhUVFAvMS4xCkFjY2...</td>\n",
       "      <td>March</td>\n",
       "      <td>1</td>\n",
       "      <td>0</td>\n",
       "    </tr>\n",
       "  </tbody>\n",
       "</table>\n",
       "</div>"
      ],
      "text/plain": [
       "         date           time       access_ip            host_ip  \\\n",
       "0  2020-03-01  00:01:37+0900  134.209.184.77  closedbeta.net:80   \n",
       "1  2020-03-01  00:01:38+0900  134.209.184.77  closedbeta.net:80   \n",
       "2  2020-03-01  00:11:53+0900   193.106.30.99  closedbeta.net:80   \n",
       "3  2020-03-01  00:19:47+0900  165.22.222.119  closedbeta.net:80   \n",
       "4  2020-03-01  00:19:55+0900  189.240.124.61  closedbeta.net:80   \n",
       "\n",
       "                                        request_line  status_code  \\\n",
       "0                    GET /blog/wp-login.php HTTP/1.1          200   \n",
       "1  POST /blog/closedbeta.net/blog/wp-login.php HT...          200   \n",
       "2                                     GET / HTTP/1.1          200   \n",
       "3                  POST /code.conflicts.php HTTP/1.1          200   \n",
       "4                     POST /work.clases.php HTTP/1.1          200   \n",
       "\n",
       "  match_result                                        request_all  month  day  \\\n",
       "0         1011  R0VUIC9ibG9nL3dwLWxvZ2luLnBocCBIVFRQLzEuMQpIb3...  March    1   \n",
       "1         1011  UE9TVCAvYmxvZy9jbG9zZWRiZXRhLm5ldC9ibG9nL3dwLW...  March    1   \n",
       "2        False  R0VUIC8gSFRUUC8xLjEKSG9zdDogY2xvc2VkYmV0YS5uZX...  March    1   \n",
       "3         1037  UE9TVCAvY29kZS5jb25mbGljdHMucGhwIEhUVFAvMS4xCk...  March    1   \n",
       "4         1037  UE9TVCAvd29yay5jbGFzZXMucGhwIEhUVFAvMS4xCkFjY2...  March    1   \n",
       "\n",
       "   hour_JP  \n",
       "0        0  \n",
       "1        0  \n",
       "2        0  \n",
       "3        0  \n",
       "4        0  "
      ]
     },
     "execution_count": 14,
     "metadata": {},
     "output_type": "execute_result"
    }
   ],
   "source": [
    "# extract hour from time (JP local time)\n",
    "df['hour_JP'] = df['time'].apply(lambda x: x[0:2]).astype(int)\n",
    "df.head()"
   ]
  },
  {
   "cell_type": "markdown",
   "metadata": {},
   "source": [
    "### country, country_code, ip_country"
   ]
  },
  {
   "cell_type": "code",
   "execution_count": 16,
   "metadata": {},
   "outputs": [],
   "source": [
    "# load the IP2Location database\n",
    "database = IP2Location.IP2Location(os.path.join(\"data\", \"IP2LOCATION-LITE-DB11.IPV6.BIN\"))"
   ]
  },
  {
   "cell_type": "code",
   "execution_count": null,
   "metadata": {},
   "outputs": [],
   "source": [
    "# map ip to country\n",
    "df['country'] = df.access_ip.apply(lambda ip: database.get_all(ip).country_long)\n",
    "df.head(1)"
   ]
  },
  {
   "cell_type": "code",
   "execution_count": null,
   "metadata": {
    "scrolled": false
   },
   "outputs": [],
   "source": [
    "# map ip to country\n",
    "df['country_code'] = df.access_ip.apply(lambda ip: database.get_all(ip).country_short)\n",
    "df.head(1)"
   ]
  },
  {
   "cell_type": "code",
   "execution_count": null,
   "metadata": {},
   "outputs": [],
   "source": [
    "# combine ip with the country code\n",
    "df['ip_country'] = df['access_ip'] + '-' + df['country_code']\n",
    "df.head(1)"
   ]
  },
  {
   "cell_type": "markdown",
   "metadata": {},
   "source": [
    "### region, city"
   ]
  },
  {
   "cell_type": "code",
   "execution_count": null,
   "metadata": {},
   "outputs": [],
   "source": [
    "# map ip to region\n",
    "df['region'] = df.access_ip.apply(lambda ip: database.get_all(ip).region)\n",
    "df.head(1)"
   ]
  },
  {
   "cell_type": "code",
   "execution_count": null,
   "metadata": {
    "scrolled": true
   },
   "outputs": [],
   "source": [
    "# map ip to city\n",
    "df['city'] = df.access_ip.apply(lambda ip: database.get_all(ip).city)\n",
    "df.head(1)"
   ]
  },
  {
   "cell_type": "markdown",
   "metadata": {},
   "source": [
    "### latitude, longitude"
   ]
  },
  {
   "cell_type": "code",
   "execution_count": null,
   "metadata": {
    "scrolled": true
   },
   "outputs": [],
   "source": [
    "# get the latitude and longitude of the IP\n",
    "df['latitude'] = df.access_ip.apply(lambda ip: database.get_all(ip).latitude)\n",
    "df['longitude'] = df.access_ip.apply(lambda ip: database.get_all(ip).longitude)\n",
    "df.head(1)"
   ]
  },
  {
   "cell_type": "markdown",
   "metadata": {},
   "source": [
    "### timezone, hour_Local"
   ]
  },
  {
   "cell_type": "code",
   "execution_count": null,
   "metadata": {
    "scrolled": true
   },
   "outputs": [],
   "source": [
    "# get the time zone of ip\n",
    "df['timezone'] = df.access_ip.apply(lambda ip: database.get_all(ip).timezone)\n",
    "df.head(1)"
   ]
  },
  {
   "cell_type": "code",
   "execution_count": null,
   "metadata": {
    "scrolled": true
   },
   "outputs": [],
   "source": [
    "# value_count of timezone\n",
    "df.timezone.value_counts()"
   ]
  },
  {
   "cell_type": "code",
   "execution_count": null,
   "metadata": {},
   "outputs": [],
   "source": [
    "# drop the record with a value '-' for timezone\n",
    "df = df[df.timezone != '-']\n",
    "df.timezone.value_counts()"
   ]
  },
  {
   "cell_type": "code",
   "execution_count": null,
   "metadata": {},
   "outputs": [],
   "source": [
    "# extract only the integer of the timezone\n",
    "df['timezone'] = df.timezone.apply(lambda x: int(x.split(':')[0]))"
   ]
  },
  {
   "cell_type": "code",
   "execution_count": null,
   "metadata": {},
   "outputs": [],
   "source": [
    "# define a function to get the local time\n",
    "def get_local_hour(hour_JP, timezone, timezone_JP=9):\n",
    "    \"\"\"\n",
    "    this function get the local hour from hour in JP, timezone in JP and local timezone\n",
    "\n",
    "    input arguments:\n",
    "\n",
    "    hour_JP: the hour in JP\n",
    "    timezone: the local timezone\n",
    "    timezoneJP: the timezone in Japan, default, 9\n",
    "\n",
    "    return:\n",
    "\n",
    "    the hour in local time\n",
    "    \"\"\"\n",
    "    local_hour = hour_JP - (timezone_JP - timezone)\n",
    "    if local_hour < 0:\n",
    "        local_hour += 24\n",
    "    elif local_hour > 24:\n",
    "        local_hour -= 24\n",
    "    return local_hour\n",
    "     "
   ]
  },
  {
   "cell_type": "code",
   "execution_count": null,
   "metadata": {
    "scrolled": true
   },
   "outputs": [],
   "source": [
    "# test the get_local_hour function\n",
    "get_local_hour(13, 8) == 12, get_local_hour(13, 0) == 4, get_local_hour(13, -5) == 23\n"
   ]
  },
  {
   "cell_type": "code",
   "execution_count": null,
   "metadata": {
    "scrolled": true
   },
   "outputs": [],
   "source": [
    "# apply the get_local_hour function to the dataframe to get the local hour of the access\n",
    "df['hour_Local'] = df.apply(lambda x: get_local_hour(x['hour_JP'], x['timezone']), axis=1)\n",
    "df.head()"
   ]
  },
  {
   "cell_type": "markdown",
   "metadata": {},
   "source": [
    "### method, http_version"
   ]
  },
  {
   "cell_type": "code",
   "execution_count": null,
   "metadata": {},
   "outputs": [],
   "source": [
    "# create a method column from request_line\n",
    "df['method'] = df['request_line'].apply(lambda x: x.split(' ')[0])\n",
    "df.head(1)"
   ]
  },
  {
   "cell_type": "code",
   "execution_count": null,
   "metadata": {},
   "outputs": [],
   "source": [
    "# get the HTTP version from request_line\n",
    "df['http_version'] = df['request_line'].apply(lambda x: x.split(' ')[-1])\n",
    "df.head(1)"
   ]
  },
  {
   "cell_type": "markdown",
   "metadata": {},
   "source": [
    "## Exploratory Data Analysis\n",
    "\n",
    "### date"
   ]
  },
  {
   "cell_type": "code",
   "execution_count": null,
   "metadata": {
    "scrolled": true
   },
   "outputs": [],
   "source": [
    "# convert the data type of date from object to datetime\n",
    "df['date'] = pd.to_datetime(df['date'])\n",
    "df.info()"
   ]
  },
  {
   "cell_type": "code",
   "execution_count": null,
   "metadata": {},
   "outputs": [],
   "source": [
    "# value counts of date\n",
    "df.date.value_counts()"
   ]
  },
  {
   "cell_type": "code",
   "execution_count": null,
   "metadata": {},
   "outputs": [],
   "source": [
    "# line plot of access trend over time\n",
    "plt.figure(figsize=(18,6))\n",
    "df.date.value_counts().plot()\n",
    "plt.xlabel('Date')\n",
    "plt.ylabel('Number of Access')\n",
    "plt.title('Number of Attacks Over Time')\n",
    "plt.savefig('plot/1.pdf');\n",
    "\n"
   ]
  },
  {
   "cell_type": "markdown",
   "metadata": {},
   "source": [
    "### access_ip"
   ]
  },
  {
   "cell_type": "code",
   "execution_count": null,
   "metadata": {},
   "outputs": [],
   "source": [
    "# value counts\n",
    "df.access_ip.value_counts()"
   ]
  },
  {
   "cell_type": "code",
   "execution_count": null,
   "metadata": {},
   "outputs": [],
   "source": [
    "# number of unique access ip\n",
    "print('There are {} IPs in in total'.format(df.access_ip.nunique()))"
   ]
  },
  {
   "cell_type": "markdown",
   "metadata": {},
   "source": [
    "### request_line"
   ]
  },
  {
   "cell_type": "code",
   "execution_count": null,
   "metadata": {
    "scrolled": true
   },
   "outputs": [],
   "source": [
    "# value counts\n",
    "\n",
    "df.request_line.value_counts()"
   ]
  },
  {
   "cell_type": "markdown",
   "metadata": {},
   "source": [
    "### status_code"
   ]
  },
  {
   "cell_type": "code",
   "execution_count": null,
   "metadata": {
    "scrolled": true
   },
   "outputs": [],
   "source": [
    "# value counts\n",
    "df.status_code.value_counts()"
   ]
  },
  {
   "cell_type": "markdown",
   "metadata": {},
   "source": [
    "### match_result"
   ]
  },
  {
   "cell_type": "code",
   "execution_count": null,
   "metadata": {},
   "outputs": [],
   "source": [
    "# value count\n",
    "df.match_result.value_counts()"
   ]
  },
  {
   "cell_type": "markdown",
   "metadata": {},
   "source": [
    "### month"
   ]
  },
  {
   "cell_type": "code",
   "execution_count": null,
   "metadata": {
    "scrolled": false
   },
   "outputs": [],
   "source": [
    "# value count\n",
    "df.month.value_counts()"
   ]
  },
  {
   "cell_type": "code",
   "execution_count": null,
   "metadata": {},
   "outputs": [],
   "source": [
    "# bar chart\n",
    "plt.figure(figsize=(10,6))\n",
    "df.month.value_counts().plot(kind='bar')\n",
    "plt.xlabel('Month')\n",
    "plt.ylabel('Number of Access')\n",
    "plt.title('Number of Access by Month');"
   ]
  },
  {
   "cell_type": "markdown",
   "metadata": {},
   "source": [
    "### day"
   ]
  },
  {
   "cell_type": "code",
   "execution_count": null,
   "metadata": {},
   "outputs": [],
   "source": [
    "# value count\n",
    "df.day.value_counts()"
   ]
  },
  {
   "cell_type": "code",
   "execution_count": null,
   "metadata": {},
   "outputs": [],
   "source": [
    "# plot of Number of Access Over Days\n",
    "df_day = df.day.value_counts().reset_index()\n",
    "df_day.columns = ['day', 'count']\n",
    "plt.figure(figsize=(10, 6))\n",
    "sns.lineplot(x='day', y='count', data=df_day)\n",
    "plt.xlabel('Day')\n",
    "plt.ylabel('Number of Access')\n",
    "plt.title('Number of Access Over Days');"
   ]
  },
  {
   "cell_type": "markdown",
   "metadata": {},
   "source": [
    "### hour_JP "
   ]
  },
  {
   "cell_type": "code",
   "execution_count": null,
   "metadata": {
    "scrolled": true
   },
   "outputs": [],
   "source": [
    "# value count\n",
    "df.hour_JP.value_counts()"
   ]
  },
  {
   "cell_type": "code",
   "execution_count": null,
   "metadata": {},
   "outputs": [],
   "source": [
    "# plot of number of access over hour in japan time\n",
    "df_hour_JP = df.hour_JP.value_counts().reset_index()\n",
    "df_hour_JP.columns = ['hour_JP', 'count']\n",
    "plt.figure(figsize=(10, 6))\n",
    "sns.lineplot(x='hour_JP', y='count', data=df_hour_JP)\n",
    "plt.xlabel('Hour in Japan Time')\n",
    "plt.ylabel('Number of Access')\n",
    "plt.title('Number of Access Over Hour in Japan Time');"
   ]
  },
  {
   "cell_type": "markdown",
   "metadata": {},
   "source": [
    "### hour_Local"
   ]
  },
  {
   "cell_type": "code",
   "execution_count": null,
   "metadata": {},
   "outputs": [],
   "source": [
    "# value count\n",
    "df.hour_Local.value_counts()"
   ]
  },
  {
   "cell_type": "code",
   "execution_count": null,
   "metadata": {
    "scrolled": true
   },
   "outputs": [],
   "source": [
    "# plot of number of access over hour in local time\n",
    "df_hour_Local = df.hour_Local.value_counts().reset_index()\n",
    "df_hour_Local.columns = ['hour_Local', 'count']\n",
    "plt.figure(figsize=(10, 6))\n",
    "sns.lineplot(x='hour_Local', y='count', data=df_hour_Local)\n",
    "plt.xlabel('Hour in Local Time')\n",
    "plt.ylabel('Number of Access')\n",
    "plt.title('Number of Access Over Hour in Local Time');"
   ]
  },
  {
   "cell_type": "markdown",
   "metadata": {},
   "source": [
    "### country"
   ]
  },
  {
   "cell_type": "code",
   "execution_count": null,
   "metadata": {},
   "outputs": [],
   "source": [
    "# value counts\n",
    "df.country.value_counts()"
   ]
  },
  {
   "cell_type": "code",
   "execution_count": null,
   "metadata": {
    "scrolled": false
   },
   "outputs": [],
   "source": [
    "# unique values\n",
    "df.country.unique()"
   ]
  },
  {
   "cell_type": "code",
   "execution_count": null,
   "metadata": {},
   "outputs": [],
   "source": [
    "# top 10 country\n",
    "df_country = df.country.value_counts().reset_index()\n",
    "df_country.columns = ['country', 'count']\n",
    "top10_country = df_country.iloc[0:10, ]\n",
    "top10_country.at[0, 'country'] = 'US'\n",
    "top10_country.at[9, 'country'] = 'UK'\n",
    "top10_country"
   ]
  },
  {
   "cell_type": "code",
   "execution_count": null,
   "metadata": {},
   "outputs": [],
   "source": [
    "# plot of top 10 number of access by country\n",
    "plt.figure(figsize=(10,6))\n",
    "plt.bar(x = top10_country['country'], height = top10_country['count'])\n",
    "plt.xlabel('Country')\n",
    "plt.ylabel('Number of Access')\n",
    "plt.title('Top 10 Number of Access by Country');\n"
   ]
  },
  {
   "cell_type": "markdown",
   "metadata": {},
   "source": [
    "### region"
   ]
  },
  {
   "cell_type": "code",
   "execution_count": null,
   "metadata": {},
   "outputs": [],
   "source": [
    "# value count\n",
    "\n",
    "df.region.value_counts()"
   ]
  },
  {
   "cell_type": "code",
   "execution_count": null,
   "metadata": {},
   "outputs": [],
   "source": [
    "# number of unique regions\n",
    "\n",
    "df.region.nunique()"
   ]
  },
  {
   "cell_type": "code",
   "execution_count": null,
   "metadata": {
    "scrolled": true
   },
   "outputs": [],
   "source": [
    "# top 10 region\n",
    "df_region = df.region.value_counts().reset_index()\n",
    "df_region.columns = ['region', 'count']\n",
    "top10_region = df_region.iloc[0:10, ]\n",
    "top10_region"
   ]
  },
  {
   "cell_type": "code",
   "execution_count": null,
   "metadata": {},
   "outputs": [],
   "source": [
    "# plot of top 10 number of access by region\n",
    "plt.figure(figsize=(10,6))\n",
    "plt.bar(x = top10_region['region'], height = top10_region['count'])\n",
    "plt.xlabel('Region')\n",
    "plt.ylabel('Number of Access')\n",
    "plt.title('Top 10 Number of Access by Region')\n",
    "plt.xticks(rotation=15);"
   ]
  },
  {
   "cell_type": "markdown",
   "metadata": {},
   "source": [
    "### city"
   ]
  },
  {
   "cell_type": "code",
   "execution_count": null,
   "metadata": {},
   "outputs": [],
   "source": [
    "# value counts\n",
    "df.city.value_counts()"
   ]
  },
  {
   "cell_type": "code",
   "execution_count": null,
   "metadata": {},
   "outputs": [],
   "source": [
    "# number of unique cities\n",
    "df.city.nunique()"
   ]
  },
  {
   "cell_type": "code",
   "execution_count": null,
   "metadata": {},
   "outputs": [],
   "source": [
    "# top 10 city\n",
    "df_city = df.city.value_counts().reset_index()\n",
    "df_city.columns = ['city', 'count']\n",
    "top10_city = df_city.iloc[0:10, ]\n",
    "top10_city"
   ]
  },
  {
   "cell_type": "code",
   "execution_count": null,
   "metadata": {
    "scrolled": true
   },
   "outputs": [],
   "source": [
    "# plot of top 10 number of access by city\n",
    "plt.figure(figsize=(10,6))\n",
    "plt.bar(x = top10_city['city'], height = top10_city['count'])\n",
    "plt.xlabel('City')\n",
    "plt.ylabel('Number of Access')\n",
    "plt.title('Top 10 Number of Access by City')\n",
    "plt.xticks(rotation=15);"
   ]
  },
  {
   "cell_type": "markdown",
   "metadata": {},
   "source": [
    "### world map - Tableau"
   ]
  },
  {
   "cell_type": "markdown",
   "metadata": {},
   "source": [
    "### method"
   ]
  },
  {
   "cell_type": "code",
   "execution_count": null,
   "metadata": {},
   "outputs": [],
   "source": [
    "# value counts\n",
    "df.method.value_counts()"
   ]
  },
  {
   "cell_type": "code",
   "execution_count": null,
   "metadata": {
    "scrolled": true
   },
   "outputs": [],
   "source": [
    "# bar chart of number of requests by method\n",
    "plt.figure(figsize=(10, 6))\n",
    "df.method.value_counts().plot(kind='bar')\n",
    "plt.xlabel('Method')\n",
    "plt.ylabel('Number of Requests')\n",
    "plt.title('Number of Requests by Method')\n",
    "plt.xticks(rotation = 45);"
   ]
  },
  {
   "cell_type": "markdown",
   "metadata": {},
   "source": [
    "### http version"
   ]
  },
  {
   "cell_type": "code",
   "execution_count": null,
   "metadata": {
    "scrolled": false
   },
   "outputs": [],
   "source": [
    "# value counts\n",
    "df['http_version'].value_counts()"
   ]
  },
  {
   "cell_type": "code",
   "execution_count": null,
   "metadata": {
    "scrolled": true
   },
   "outputs": [],
   "source": [
    "# bar chart of proportion of attacks by http version\n",
    "plt.figure(figsize=(6, 6))\n",
    "(df['http_version'].value_counts() / df.shape[0]).plot(kind = 'bar')\n",
    "plt.xlabel('HTTP Version')\n",
    "plt.ylabel('Proportion')\n",
    "plt.title('Proportion of Attacks by Http Version')\n",
    "plt.xticks(rotation = 0);"
   ]
  },
  {
   "cell_type": "markdown",
   "metadata": {},
   "source": [
    "## Time Related Variables Exploration\n",
    "\n",
    "In this part, we explore time related variables, including date, month, day, hour_JP, hour_Local\n",
    "\n",
    "### date"
   ]
  },
  {
   "cell_type": "code",
   "execution_count": null,
   "metadata": {
    "scrolled": false
   },
   "outputs": [],
   "source": [
    "# line plot of access trend over time\n",
    "plt.figure(figsize=(18,6))\n",
    "df.date.value_counts().plot()\n",
    "plt.xlabel('Date')\n",
    "plt.ylabel('Number of Access')\n",
    "plt.title('Number of Access Over Time')\n",
    "plt.savefig('plot/1.png');\n",
    "# plt.setp(plt.gca().xaxis.get_majorticklabels(),\n",
    "#          'rotation', 90)\n",
    "# plt.gca().xaxis.set_major_locator(mdates.DayLocator(interval=10))"
   ]
  },
  {
   "cell_type": "markdown",
   "metadata": {},
   "source": [
    "A peak appears at around 2020-06-21."
   ]
  },
  {
   "cell_type": "markdown",
   "metadata": {},
   "source": [
    "### month"
   ]
  },
  {
   "cell_type": "code",
   "execution_count": null,
   "metadata": {},
   "outputs": [],
   "source": [
    "# bar chart\n",
    "plt.figure(figsize=(10,6))\n",
    "(df.month.value_counts()/df.shape[0]).plot(kind='bar')\n",
    "plt.xlabel('Month')\n",
    "plt.ylabel('Proportion')\n",
    "plt.title('Proportion of Access by Month')\n",
    "plt.xticks(rotation=0)\n",
    "plt.savefig('plot/2.png');"
   ]
  },
  {
   "cell_type": "markdown",
   "metadata": {},
   "source": [
    "June has the most attacks, June/July and Aug have more attacks than the other months."
   ]
  },
  {
   "cell_type": "code",
   "execution_count": null,
   "metadata": {},
   "outputs": [],
   "source": [
    "# one way chi square test\n",
    "\n",
    "chisq, p = chisquare(df.month.value_counts())\n",
    "\n",
    "print('The p value is {}\\n'.format(p))\n",
    "if p < 0.05:\n",
    "    print('p is very small, there is a significant difference')\n",
    "else:\n",
    "    print('p is relatively large, there is no significant difference')"
   ]
  },
  {
   "cell_type": "markdown",
   "metadata": {},
   "source": [
    "### day"
   ]
  },
  {
   "cell_type": "code",
   "execution_count": null,
   "metadata": {},
   "outputs": [],
   "source": [
    "# plot of Number of Access Over Days\n",
    "df_day = df.day.value_counts().reset_index()\n",
    "df_day.columns = ['day', 'count']\n",
    "plt.figure(figsize=(18, 6))\n",
    "sns.lineplot(x='day', y='count', data=df_day)\n",
    "plt.xlabel('Day')\n",
    "plt.ylabel('Number of Access')\n",
    "plt.title('Number of Access Over Days')\n",
    "plt.xticks(np.arange(0, 32, 2))\n",
    "plt.savefig('plot/3.png');"
   ]
  },
  {
   "cell_type": "markdown",
   "metadata": {},
   "source": [
    "Overall, more attacks happen on 12 and 21."
   ]
  },
  {
   "cell_type": "markdown",
   "metadata": {},
   "source": [
    "### hour_JP"
   ]
  },
  {
   "cell_type": "code",
   "execution_count": null,
   "metadata": {
    "scrolled": true
   },
   "outputs": [],
   "source": [
    "# plot of number of access over hour in japan time\n",
    "df_hour_JP = df.hour_JP.value_counts().reset_index()\n",
    "df_hour_JP.columns = ['hour_JP', 'count']\n",
    "plt.figure(figsize=(18, 6))\n",
    "sns.lineplot(x='hour_JP', y='count', data=df_hour_JP)\n",
    "plt.xlabel('Hour in Japan Time')\n",
    "plt.ylabel('Number of Access')\n",
    "plt.title('Number of Access Over Hour in Japan Time')\n",
    "plt.xticks(np.arange(0, 24, 1))\n",
    "plt.savefig('plot/4.png');"
   ]
  },
  {
   "cell_type": "markdown",
   "metadata": {},
   "source": [
    "The park appears at 2AM, 10AM and 14PM"
   ]
  },
  {
   "cell_type": "markdown",
   "metadata": {},
   "source": [
    "### hour_Local"
   ]
  },
  {
   "cell_type": "code",
   "execution_count": null,
   "metadata": {
    "scrolled": true
   },
   "outputs": [],
   "source": [
    "# plot of number of access over hour in local time\n",
    "df_hour_Local = df.hour_Local.value_counts().reset_index()\n",
    "df_hour_Local.columns = ['hour_Local', 'count']\n",
    "plt.figure(figsize=(18, 6))\n",
    "sns.lineplot(x='hour_Local', y='count', data=df_hour_Local)\n",
    "plt.xlabel('Hour in Local Time')\n",
    "plt.ylabel('Number of Access')\n",
    "plt.title('Number of Access Over Hour in Local Time')\n",
    "plt.xticks(np.arange(0, 24, 1))\n",
    "plt.savefig('plot/5.png');"
   ]
  },
  {
   "cell_type": "markdown",
   "metadata": {},
   "source": [
    "The peak appears at 4AM, 6AM and 20pm"
   ]
  },
  {
   "cell_type": "code",
   "execution_count": null,
   "metadata": {},
   "outputs": [],
   "source": [
    "df.country.unique()"
   ]
  },
  {
   "cell_type": "markdown",
   "metadata": {},
   "source": [
    "### hour_Local - US"
   ]
  },
  {
   "cell_type": "code",
   "execution_count": null,
   "metadata": {},
   "outputs": [],
   "source": [
    "# plot of number of access over hour in US local time\n",
    "df_hour_US_Local = df[df.country=='United States of America'].hour_Local.value_counts().reset_index()\n",
    "df_hour_US_Local.columns = ['hour_Local', 'count']\n",
    "plt.figure(figsize=(18, 6))\n",
    "sns.lineplot(x='hour_Local', y='count', data=df_hour_US_Local)\n",
    "plt.xlabel('Hour in Local Time')\n",
    "plt.ylabel('Number of Access')\n",
    "plt.title('Number of Access Over Hour in US Local Time')\n",
    "plt.xticks(np.arange(0, 24, 1))\n",
    "plt.savefig('plot/11.png');"
   ]
  },
  {
   "cell_type": "markdown",
   "metadata": {},
   "source": [
    "For attacks from US, the peaks are at 1AM and 22PM"
   ]
  },
  {
   "cell_type": "markdown",
   "metadata": {},
   "source": [
    "### hour_Local - Ireland"
   ]
  },
  {
   "cell_type": "code",
   "execution_count": null,
   "metadata": {
    "scrolled": true
   },
   "outputs": [],
   "source": [
    "# plot of number of access over hour in Ireland local time\n",
    "df_hour_Ireland_Local = df[df.country=='Ireland'].hour_Local.value_counts().reset_index()\n",
    "df_hour_Ireland_Local.columns = ['hour_Local', 'count']\n",
    "plt.figure(figsize=(18, 6))\n",
    "sns.lineplot(x='hour_Local', y='count', data=df_hour_Ireland_Local)\n",
    "plt.xlabel('Hour in Local Time')\n",
    "plt.ylabel('Number of Access')\n",
    "plt.title('Number of Access Over Hour in Ireland Local Time')\n",
    "plt.xticks(np.arange(0, 24, 1))\n",
    "plt.savefig('plot/12.png');"
   ]
  },
  {
   "cell_type": "markdown",
   "metadata": {},
   "source": [
    "For attacks from Ireland, the peaks appear at 8AM, 19PM and 21PM"
   ]
  },
  {
   "cell_type": "markdown",
   "metadata": {},
   "source": [
    "## Location Related Variables Exploration\n",
    "\n",
    "In this part, we explore location related variables, including ip_country, country, city\n",
    "\n",
    "### ip_country"
   ]
  },
  {
   "cell_type": "code",
   "execution_count": null,
   "metadata": {},
   "outputs": [],
   "source": [
    "# top 10 IPs\n",
    "df.groupby(['ip_country', 'country']).size().sort_values(ascending=False).head(10)"
   ]
  },
  {
   "cell_type": "code",
   "execution_count": null,
   "metadata": {
    "scrolled": true
   },
   "outputs": [],
   "source": [
    "# bar chart of top 10 IPs\n",
    "plt.figure(figsize=(12, 4))\n",
    "df.ip_country.value_counts().head(10).sort_values().plot(kind='barh')\n",
    "plt.xlabel('Number of Attacks')\n",
    "plt.ylabel('IP')\n",
    "plt.title('Horizantle Bar Chart of Access by IP')\n",
    "plt.savefig('plot/6.png');"
   ]
  },
  {
   "cell_type": "markdown",
   "metadata": {},
   "source": [
    "### country"
   ]
  },
  {
   "cell_type": "code",
   "execution_count": null,
   "metadata": {},
   "outputs": [],
   "source": [
    "# top 10 country\n",
    "df_country = df.country.value_counts().reset_index()\n",
    "df_country.columns = ['country', 'count']\n",
    "top10_country = df_country.iloc[0:10, ]\n",
    "top10_country.at[0, 'country'] = 'US'\n",
    "top10_country.at[9, 'country'] = 'UK'\n",
    "top10_country"
   ]
  },
  {
   "cell_type": "code",
   "execution_count": null,
   "metadata": {},
   "outputs": [],
   "source": [
    "# plot of top 10 number of access by country\n",
    "plt.figure(figsize=(10,6))\n",
    "plt.bar(x = top10_country['country'], height = top10_country['count'])\n",
    "plt.xlabel('Country')\n",
    "plt.ylabel('Number of Access')\n",
    "plt.title('Top 10 Number of Access by Country')\n",
    "plt.savefig('plot/7.png');"
   ]
  },
  {
   "cell_type": "markdown",
   "metadata": {},
   "source": [
    "### city"
   ]
  },
  {
   "cell_type": "code",
   "execution_count": null,
   "metadata": {},
   "outputs": [],
   "source": [
    "# top 10 city\n",
    "df_city = df.city.value_counts().reset_index()\n",
    "df_city.columns = ['city', 'count']\n",
    "top10_city = df_city.iloc[0:10, ]\n",
    "top10_city"
   ]
  },
  {
   "cell_type": "code",
   "execution_count": null,
   "metadata": {
    "scrolled": true
   },
   "outputs": [],
   "source": [
    "# plot of top 10 number of access by city\n",
    "plt.figure(figsize=(10,6))\n",
    "plt.bar(x = top10_city['city'], height = top10_city['count'])\n",
    "plt.xlabel('City')\n",
    "plt.ylabel('Number of Access')\n",
    "plt.title('Top 10 Number of Access by City')\n",
    "plt.xticks(rotation=15)\n",
    "plt.savefig('plot/8.png');"
   ]
  },
  {
   "cell_type": "markdown",
   "metadata": {},
   "source": [
    "## Technique Related Variables Exploration\n",
    "\n",
    "In this part, we explore technique related variables, including method and http_version\n",
    "\n",
    "### method\n"
   ]
  },
  {
   "cell_type": "code",
   "execution_count": null,
   "metadata": {},
   "outputs": [],
   "source": [
    "# bar chart of number of requests by method\n",
    "plt.figure(figsize=(10, 6))\n",
    "df.method.value_counts().plot(kind='bar')\n",
    "plt.xlabel('Method')\n",
    "plt.ylabel('Number of Access')\n",
    "plt.title('Number of Access by Method')\n",
    "plt.xticks(rotation = 45)\n",
    "plt.savefig('plot/9.png');"
   ]
  },
  {
   "cell_type": "markdown",
   "metadata": {},
   "source": [
    "### http_version"
   ]
  },
  {
   "cell_type": "code",
   "execution_count": null,
   "metadata": {},
   "outputs": [],
   "source": [
    "# bar chart of proportion of attacks by http version\n",
    "plt.figure(figsize=(6, 6))\n",
    "(df['http_version'].value_counts() / df.shape[0]).plot(kind = 'bar')\n",
    "plt.xlabel('HTTP Version')\n",
    "plt.ylabel('Proportion')\n",
    "plt.title('Proportion of Access by Http Version')\n",
    "plt.xticks(rotation = 0)\n",
    "plt.yticks(np.arange(0, 1.01, 0.05))\n",
    "plt.savefig('plot/10.png');"
   ]
  },
  {
   "cell_type": "code",
   "execution_count": null,
   "metadata": {},
   "outputs": [],
   "source": [
    "# export the dataframe as csv file\n",
    "df.to_csv('data/honeypot.csv')"
   ]
  },
  {
   "cell_type": "markdown",
   "metadata": {},
   "source": [
    "## Reference\n",
    "\n",
    "- [IP2Location™ LITE IP-COUNTRY-REGION-CITY-LATITUDE-LONGITUDE-ZIPCODE-TIMEZONE Database](https://lite.ip2location.com/database/ip-country-region-city-latitude-longitude-zipcode-timezone)\n",
    "- [ValueError: invalid literal for int() with base 10](https://stackoverflow.com/questions/1841565/valueerror-invalid-literal-for-int-with-base-10)\n",
    "- [python pandas- apply function with two arguments to columns](https://stackoverflow.com/questions/34279378/python-pandas-apply-function-with-two-arguments-to-columns)"
   ]
  },
  {
   "cell_type": "code",
   "execution_count": null,
   "metadata": {},
   "outputs": [],
   "source": []
  }
 ],
 "metadata": {
  "hide_input": false,
  "kernelspec": {
   "display_name": "Python 3",
   "language": "python",
   "name": "python3"
  },
  "language_info": {
   "codemirror_mode": {
    "name": "ipython",
    "version": 3
   },
   "file_extension": ".py",
   "mimetype": "text/x-python",
   "name": "python",
   "nbconvert_exporter": "python",
   "pygments_lexer": "ipython3",
   "version": "3.8.3"
  },
  "latex_envs": {
   "LaTeX_envs_menu_present": true,
   "autoclose": false,
   "autocomplete": true,
   "bibliofile": "biblio.bib",
   "cite_by": "apalike",
   "current_citInitial": 1,
   "eqLabelWithNumbers": true,
   "eqNumInitial": 1,
   "hotkeys": {
    "equation": "Ctrl-E",
    "itemize": "Ctrl-I"
   },
   "labels_anchors": false,
   "latex_user_defs": false,
   "report_style_numbering": false,
   "user_envs_cfg": false
  },
  "toc": {
   "base_numbering": 1,
   "nav_menu": {},
   "number_sections": true,
   "sideBar": true,
   "skip_h1_title": false,
   "title_cell": "Table of Contents",
   "title_sidebar": "Contents",
   "toc_cell": false,
   "toc_position": {},
   "toc_section_display": true,
   "toc_window_display": false
  },
  "varInspector": {
   "cols": {
    "lenName": 16,
    "lenType": 16,
    "lenVar": 40
   },
   "kernels_config": {
    "python": {
     "delete_cmd_postfix": "",
     "delete_cmd_prefix": "del ",
     "library": "var_list.py",
     "varRefreshCmd": "print(var_dic_list())"
    },
    "r": {
     "delete_cmd_postfix": ") ",
     "delete_cmd_prefix": "rm(",
     "library": "var_list.r",
     "varRefreshCmd": "cat(var_dic_list()) "
    }
   },
   "types_to_exclude": [
    "module",
    "function",
    "builtin_function_or_method",
    "instance",
    "_Feature"
   ],
   "window_display": false
  }
 },
 "nbformat": 4,
 "nbformat_minor": 2
}
